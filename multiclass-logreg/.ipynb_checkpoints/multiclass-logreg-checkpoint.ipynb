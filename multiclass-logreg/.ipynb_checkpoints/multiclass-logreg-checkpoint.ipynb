{
 "cells": [
  {
   "cell_type": "markdown",
   "metadata": {},
   "source": [
    "# Jacob Pettit - Nathaniel Leonard"
   ]
  },
  {
   "cell_type": "markdown",
   "metadata": {},
   "source": [
    "The following is an implementation of multiclass logistic regression with FSA variable selection ([Barbu et al. (2016)](https://arxiv.org/pdf/1310.2880.pdf))."
   ]
  },
  {
   "cell_type": "markdown",
   "metadata": {},
   "source": [
    "Import required libraries."
   ]
  },
  {
   "cell_type": "code",
   "execution_count": 1,
   "metadata": {
    "colab": {},
    "colab_type": "code",
    "id": "setZrSG-tXXP"
   },
   "outputs": [],
   "source": [
    "import numpy as np\n",
    "import pandas as pd\n",
    "import matplotlib.pyplot as plt\n",
    "from scipy.optimize import minimize\n",
    "from sklearn.preprocessing import Imputer \n",
    "from sklearn.model_selection import train_test_split\n",
    "from sklearn.preprocessing import OneHotEncoder"
   ]
  },
  {
   "cell_type": "markdown",
   "metadata": {},
   "source": [
    "Load in the data. Since this was part of a course project, the professor had specific instructions for how specifically the data was ordered."
   ]
  },
  {
   "cell_type": "code",
   "execution_count": 3,
   "metadata": {
    "colab": {},
    "colab_type": "code",
    "id": "wbypT82eOvk5"
   },
   "outputs": [],
   "source": [
    "sat_train = pd.read_csv('~/Documents/machine-learning/data/sat.trn', delimiter=' ', header=None)\n",
    "sat_test = pd.read_csv('~/Documents/machine-learning/data/sat.tst', delimiter = ' ', header=None)\n",
    "\n",
    "sat_train = sat_train.values\n",
    "sat_train_label = sat_train[:,-1]\n",
    "sat_train = np.delete(sat_train,36,axis=1)\n",
    "\n",
    "sat_test = sat_test.values\n",
    "sat_test_label = sat_test[:,-1]\n",
    "sat_test = np.delete(sat_test,36,axis=1)"
   ]
  },
  {
   "cell_type": "markdown",
   "metadata": {},
   "source": [
    "Here I created a data preprocessing function for reusability."
   ]
  },
  {
   "cell_type": "code",
   "execution_count": 4,
   "metadata": {
    "colab": {},
    "colab_type": "code",
    "id": "dIEuCMBFO005"
   },
   "outputs": [],
   "source": [
    "# data preprocessing\n",
    "def clean(xtrain, xtest):\n",
    "    imp = Imputer()\n",
    "    train_data = imp.fit_transform(xtrain)\n",
    "    valid_data = imp.fit_transform(xtest)\n",
    "    \n",
    "    train_data_mean = np.mean(train_data)\n",
    "    train_data_std = np.std(train_data)\n",
    "    \n",
    "    train_data -= train_data_mean\n",
    "    train_data /= train_data_std\n",
    "    valid_data -= train_data_mean\n",
    "    valid_data /= train_data_std\n",
    "    \n",
    "    train_data = np.column_stack((np.ones(train_data.shape[0]), train_data))\n",
    "    valid_data = np.column_stack((np.ones(valid_data.shape[0]), valid_data))\n",
    "    \n",
    "    return train_data, valid_data"
   ]
  },
  {
   "cell_type": "markdown",
   "metadata": {},
   "source": [
    "Making the multiclass logistic regression class. It takes as input a learning rate, the number of weights (k) to keep at each iteration, and the training and testing data. Within the class we define the Lorenz loss, Vapnik loss, a weight update schedule (from the FSA paper), a softmax function, a softmax prediction function (this really just takes the argmax of the output of the softmax function), a function which finds the gradients of the loss with respect to the weights, and a fit_predict function which contains the training loop and evaluates the accuracy of the model."
   ]
  },
  {
   "cell_type": "code",
   "execution_count": 5,
   "metadata": {
    "colab": {},
    "colab_type": "code",
    "id": "_yq71MdNuKt7"
   },
   "outputs": [],
   "source": [
    "class multiclass_logreg:\n",
    "    def __init__(self, learning_rate, n_iter, k_keep, Xtrain, Ytrain, Xtest, Ytest):\n",
    "        self.k_keep = k_keep\n",
    "        self.x = Xtrain\n",
    "        self.y = Ytrain\n",
    "        self.X = Xtest\n",
    "        self.Y = Ytest\n",
    "        self.x_samples, self.x_features = self.x.shape\n",
    "        self.weights = np.zeros((self.x_features, self.y.shape[1]))\n",
    "        self.loss = np.zeros((len(k_keep), self.x_samples))\n",
    "        self.n_iter = n_iter\n",
    "        self.s = 1e-2\n",
    "        self.lr = learning_rate\n",
    "        self.train_error = []\n",
    "        self.test_error = []\n",
    "        self.mu = 100\n",
    "    \n",
    "    def lorenz(self, u):\n",
    "        inds = np.where(u <= 1)\n",
    "        lorenz_ = np.zeros(u.shape)\n",
    "        derivative_ = np.zeros(u.shape)\n",
    "        u = np.asarray(u)\n",
    "        lorenz_ = (u <= 1)*np.log(1 + (u-1)**2)\n",
    "        derivative_ = (u <= 1) * (2 * (u-1))/(1 + (u-1)**2)\n",
    "        return np.asarray(lorenz_), np.asarray(derivative_)\n",
    "  \n",
    "    def schedule(self, m, i ,k):\n",
    "        mi = k + (m-k) * max(0, (500-2*i)/(2*i*100 + 500))\n",
    "        return mi\n",
    "    \n",
    "    def vapnik_loss(self, xx, w, y):\n",
    "        xx = np.asarray(xx)\n",
    "        w = np.asarray(w)\n",
    "        y = np.asarray(y)\n",
    "        dxby = np.asarray(np.diag(np.dot(np.dot(xx, w), y.T)).reshape(1, self.x_samples))\n",
    "        tdxby = np.asarray(np.dot(dxby.T, np.ones((1, y.shape[1]))))\n",
    "        vl = 1/self.x_samples * np.sum(self.lorenz(tdxby - xx @ w)[0]) - np.log(2) + (self.s * (np.linalg.norm(w)))**2\n",
    "        return vl\n",
    "    \n",
    "    def FSA(self, k, m, w, i):\n",
    "        w = np.asarray(w)\n",
    "        mi = k + (m-k)*max(0, (self.n_iter - 2 * i)/(2*i*self.mu+self.n_iter))\n",
    "        inds = np.ravel(sorted(np.argsort(np.linalg.norm(w, axis=1))[-int(mi):]))\n",
    "        return inds\n",
    "    \n",
    "    def softmax(self, x, w):\n",
    "        x = np.asarray(x)\n",
    "        w = np.asarray(w)\n",
    "        top = np.exp(np.dot(x.T, w))\n",
    "        bottom = np.sum(np.exp(np.dot(x.T, w)))\n",
    "        return top/bottom\n",
    "    \n",
    "    def softmax_predict(self, x, w):\n",
    "        return np.argmax(self.softmax(x, w))\n",
    "    \n",
    "    def gradient(self, xx, w, y):\n",
    "        xx = np.asarray(xx)\n",
    "        w = np.asarray(w)\n",
    "        y = np.asarray(y)\n",
    "        dxby = np.asarray(np.diag(np.dot(np.dot(xx, w), y.T)).reshape(1, self.x_samples))\n",
    "        tdxby = np.asarray(np.dot(dxby.T, np.ones((1, y.shape[1]))))\n",
    "        val1 = np.asarray(np.sum(self.lorenz(tdxby - np.dot(xx, w))[1], axis=1).reshape(self.x_samples, 1))\n",
    "        val2 = np.asarray(np.add(-self.lorenz(tdxby - np.dot(xx, w))[1], np.multiply(np.dot(val1, np.ones((1, y.shape[1]))), y)))\n",
    "        grad = np.asarray(1/self.x_samples * np.dot(xx.T, val2) + 2 * self.s * w)\n",
    "        return grad\n",
    "    \n",
    "    def fit_predict(self):\n",
    "        self.l_ = np.zeros((len(self.k_keep), self.n_iter))\n",
    "        all_loss = []\n",
    "        for k in range(len(self.k_keep)):\n",
    "            weightstmp = self.weights\n",
    "            Xtmp = self.X\n",
    "            xtr = self.x\n",
    "            ytr = self.y\n",
    "            losses = [0] * self.n_iter\n",
    "            tr_mis_count, test_mis_count = 0, 0\n",
    "            for i in range(self.n_iter):\n",
    "                losses[i] = self.vapnik_loss(xtr, weightstmp, ytr)\n",
    "                weightstmp = weightstmp - self.lr * self.gradient(xtr, weightstmp, ytr)\n",
    "                inds = self.FSA(k, self.x_features, weightstmp, i)\n",
    "                weightstmp = weightstmp[inds]\n",
    "                Xtmp = Xtmp[:, inds]\n",
    "                xtr = xtr[:, inds]\n",
    "                \n",
    "                if self.softmax_predict(xtr[i], weightstmp) != np.argmax(self.y[i]):\n",
    "                    tr_mis_count += 1\n",
    "                    \n",
    "                if self.softmax_predict(Xtmp[i], weightstmp) != np.argmax(self.Y[i]):\n",
    "                    test_mis_count += 1\n",
    "                \n",
    "                if i % 100 == 0:\n",
    "                    print('Training step:', i, '\\tLoss:', losses[i])\n",
    "\n",
    "            all_loss.append(losses)\n",
    "            print('Training misclassification for k =', self.k_keep[k], ':', tr_mis_count/self.x_samples)\n",
    "            print('Testing misclassification for k =', self.k_keep[k], ':', test_mis_count/self.x_samples)\n",
    "            self.train_error.append(tr_mis_count/self.x_samples)\n",
    "            self.test_error.append(test_mis_count/self.x_samples)\n",
    "        \n",
    "        return self.train_error, self.test_error, all_loss"
   ]
  },
  {
   "cell_type": "markdown",
   "metadata": {},
   "source": [
    "One hot encoding the data and setting values of k to train using. Then initializing the multiclass logistic regression object."
   ]
  },
  {
   "cell_type": "code",
   "execution_count": 6,
   "metadata": {},
   "outputs": [],
   "source": [
    "enc = OneHotEncoder()\n",
    "ks = [5, 9, 18, 37, 56]\n",
    "sat_y_tr = enc.fit_transform(sat_train_label.reshape(-1, 1)).todense()\n",
    "sat_y_te = enc.fit_transform(sat_test_label.reshape(-1, 1)).todense()\n",
    "sat_reg = multiclass_logreg(0.0001, 500, ks, sat_train, sat_y_tr, sat_test, sat_y_te)"
   ]
  },
  {
   "cell_type": "markdown",
   "metadata": {},
   "source": [
    "Training the multiclass logreg object on the sat data."
   ]
  },
  {
   "cell_type": "code",
   "execution_count": 12,
   "metadata": {},
   "outputs": [
    {
     "name": "stdout",
     "output_type": "stream",
     "text": [
      "Training step: 0 \tLoss: 3.465735902799726\n",
      "Training step: 100 \tLoss: 2.602173755653968\n",
      "Training step: 200 \tLoss: 2.602173755653977\n",
      "Training step: 300 \tLoss: 2.602173755653977\n",
      "Training step: 400 \tLoss: 2.6021737556539764\n",
      "Training misclassification for k = 5 : 0.1100338218714769\n",
      "Testing misclassification for k = 5 : 0.11161217587373168\n",
      "Training step: 0 \tLoss: 3.465735902799726\n",
      "Training step: 100 \tLoss: 2.6021737847779387\n",
      "Training step: 200 \tLoss: 2.602173755653977\n",
      "Training step: 300 \tLoss: 2.602173755653977\n",
      "Training step: 400 \tLoss: 2.602173755653977\n",
      "Training misclassification for k = 9 : 0.1100338218714769\n",
      "Testing misclassification for k = 9 : 0.11183765501691094\n",
      "Training step: 0 \tLoss: 3.465735902799726\n",
      "Training step: 100 \tLoss: 1.8679257933401028\n",
      "Training step: 200 \tLoss: 1.7031169725322315\n",
      "Training step: 300 \tLoss: 1.631205798190713\n",
      "Training step: 400 \tLoss: 1.632338951664031\n",
      "Training misclassification for k = 18 : 0.05411499436302142\n",
      "Testing misclassification for k = 18 : 0.0588500563697858\n",
      "Training step: 0 \tLoss: 3.465735902799726\n",
      "Training step: 100 \tLoss: 2.093799246125765\n",
      "Training step: 200 \tLoss: 1.9127411936065426\n",
      "Training step: 300 \tLoss: 1.7391094863214263\n",
      "Training step: 400 \tLoss: 1.7485928772178558\n",
      "Training misclassification for k = 37 : 0.06674182638105976\n",
      "Testing misclassification for k = 37 : 0.0665163472378805\n",
      "Training step: 0 \tLoss: 3.465735902799726\n",
      "Training step: 100 \tLoss: 2.07379811480165\n",
      "Training step: 200 \tLoss: 2.2162122731818332\n",
      "Training step: 300 \tLoss: 1.866670498830063\n",
      "Training step: 400 \tLoss: 2.1166284460201257\n",
      "Training misclassification for k = 56 : 0.07034949267192785\n",
      "Testing misclassification for k = 56 : 0.06583990980834273\n"
     ]
    }
   ],
   "source": [
    "sat_trerr, sat_testerr, sat_loss = sat_reg.fit_predict()"
   ]
  },
  {
   "cell_type": "markdown",
   "metadata": {},
   "source": [
    "In the below plots, I'm making use of matplotlib to visualize the loss during training and the testing and training misclassification errors."
   ]
  },
  {
   "cell_type": "code",
   "execution_count": 26,
   "metadata": {},
   "outputs": [
    {
     "data": {
      "image/png": "[encoded data removed]",
      "text/plain": [
       "<Figure size 432x288 with 1 Axes>"
      ]
     },
     "metadata": {
      "needs_background": "light"
     },
     "output_type": "display_data"
    }
   ],
   "source": [
    "plt.plot(range(len(sat_loss[1])), sat_loss[1], color='m')\n",
    "plt.xlabel('Epochs')\n",
    "plt.ylabel('Loss')\n",
    "plt.title('Training loss for k = 9 on satimage')\n",
    "plt.show()"
   ]
  },
  {
   "cell_type": "code",
   "execution_count": 31,
   "metadata": {},
   "outputs": [
    {
     "data": {
      "image/png": "[encoded data removed]",
      "text/plain": [
       "<Figure size 432x288 with 1 Axes>"
      ]
     },
     "metadata": {
      "needs_background": "light"
     },
     "output_type": "display_data"
    }
   ],
   "source": [
    "plt.plot(ks, sat_testerr, color='m', label='Testing error', linestyle='--')\n",
    "plt.plot(ks, sat_trerr, color='b', label='Training error')\n",
    "plt.legend()\n",
    "plt.title('Misclassification error on Satimage dataset')\n",
    "plt.xlabel('K')\n",
    "plt.ylabel('Error')\n",
    "plt.show()"
   ]
  },
  {
   "cell_type": "code",
   "execution_count": 45,
   "metadata": {},
   "outputs": [
    {
     "name": "stdout",
     "output_type": "stream",
     "text": [
      "Misclassification Errors for Satimage dataset\n",
      "K values: [ 5.  9. 18. 37. 56.]\n",
      "Training misclassification error: [0.11003382 0.11003382 0.05411499 0.06674183 0.07034949]\n",
      "Testing misclassification error: [0.11161218 0.11183766 0.05885006 0.06651635 0.06583991]\n"
     ]
    }
   ],
   "source": [
    "sat_results = np.array([ks, sat_trerr, sat_testerr])\n",
    "print('Misclassification Errors for Satimage dataset')\n",
    "for i in range(len(sat_results)):\n",
    "    print(words[i], sat_results[i])"
   ]
  }
 ],
 "metadata": {
  "colab": {
   "name": "ML_HW7.ipynb",
   "provenance": [],
   "version": "0.3.2"
  },
  "kernelspec": {
   "display_name": "Python 3",
   "language": "python",
   "name": "python3"
  },
  "language_info": {
   "codemirror_mode": {
    "name": "ipython",
    "version": 3
   },
   "file_extension": ".py",
   "mimetype": "text/x-python",
   "name": "python",
   "nbconvert_exporter": "python",
   "pygments_lexer": "ipython3",
   "version": "3.7.2"
  }
 },
 "nbformat": 4,
 "nbformat_minor": 2
}
